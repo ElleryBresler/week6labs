{
 "cells": [
  {
   "cell_type": "markdown",
   "id": "b58953c0-5941-4999-96d5-67bf61ff9fe5",
   "metadata": {},
   "source": [
    "UM MSBA - BGEN\n",
    "\n",
    "# Week 6 Independent Lab: Grade Entry System\n",
    "---\n",
    "    Author: Ellery Bresler\n",
    "    Course: BGEN632 Grad. Intro. to Python\n",
    "    Term: Spring 2025\n",
    "    Date: April 7, 2025\n",
    "\n",
    "\n",
    "## &#127979; &#x270e; Welcome to Student Data Entry.&#x270e; &#127979;\n",
    "\n",
    "This notebook contains code for a \"student data entry\" program based on lab assignment requirements outlined in the BGEN 632 Week 6 GitHub repo. The program makes use of collections, lists, and queries. \n",
    "\n",
    "#### Create Variables "
   ]
  },
  {
   "cell_type": "code",
   "execution_count": 1,
   "id": "30f4b7ee-c91c-4ac2-98b7-d0c57125a4bd",
   "metadata": {},
   "outputs": [],
   "source": [
    "first_name = [\"Carmen\", \"Sydney\", \"Neil\", \"Marcus\"] #the student's first name\n",
    "last_name = [\"Berzatto\", \"Adamu\", \"Fak\", \"Brooks\"] #the student's last name \n",
    "major = [\"Business\", \"History\", \"Education\", \"Communications\"] #the student's major\n",
    "student_gpa = [3.99, 4.00, 3.25, 3.33] #the student's GPA \n",
    "\n",
    "student_info = [first_name,\n",
    "                last_name,\n",
    "                major,\n",
    "                student_gpa]\n",
    "\n",
    "academic_violation = [\"copying homework\", \n",
    "                    \"cheating on exam\", \n",
    "                    \"plagiarism\", \n",
    "                    \"cheating on quiz\", \n",
    "                    \"writing paper for another student\"] \n",
    "\n",
    "student_violations = [\"\"]              "
   ]
  },
  {
   "cell_type": "markdown",
   "id": "c69408da-543e-4be2-9e80-4124a5c76d17",
   "metadata": {},
   "source": [
    "#### Create Menu "
   ]
  },
  {
   "cell_type": "code",
   "execution_count": 2,
   "id": "63df1944-2bd2-474b-81de-34c8865dabe9",
   "metadata": {},
   "outputs": [
    {
     "name": "stdout",
     "output_type": "stream",
     "text": [
      "Welcome to the student entry system.\n",
      "Please make your selection from the following options.\n",
      "\n",
      "|   | \tOption\t\t|\n",
      "| 1 | Student Information Query\n",
      "| 2 | Student Information Entry\n",
      "| 3 | Query GPA Metrics\n",
      "| 4 | Academic Violation\n",
      "| 5 | Quit Program\n",
      "\n"
     ]
    },
    {
     "name": "stdin",
     "output_type": "stream",
     "text": [
      "choose option 3\n"
     ]
    },
    {
     "name": "stdout",
     "output_type": "stream",
     "text": [
      "Max GPA: 4.0\n",
      "Min GPA: 3.25\n",
      "Avg GPA: 3.6425\n",
      "\n",
      "Welcome to the student entry system.\n",
      "Please make your selection from the following options.\n",
      "\n",
      "|   | \tOption\t\t|\n",
      "| 1 | Student Information Query\n",
      "| 2 | Student Information Entry\n",
      "| 3 | Query GPA Metrics\n",
      "| 4 | Academic Violation\n",
      "| 5 | Quit Program\n",
      "\n"
     ]
    },
    {
     "name": "stdin",
     "output_type": "stream",
     "text": [
      "choose option 2\n",
      "First Name Ellery\n",
      "Last Name Bresler\n",
      "Major Anthrozoology\n",
      "GPA 3.42\n"
     ]
    },
    {
     "name": "stdout",
     "output_type": "stream",
     "text": [
      "Student Added Successfully.\n",
      "Welcome to the student entry system.\n",
      "Please make your selection from the following options.\n",
      "\n",
      "|   | \tOption\t\t|\n",
      "| 1 | Student Information Query\n",
      "| 2 | Student Information Entry\n",
      "| 3 | Query GPA Metrics\n",
      "| 4 | Academic Violation\n",
      "| 5 | Quit Program\n",
      "\n"
     ]
    },
    {
     "name": "stdin",
     "output_type": "stream",
     "text": [
      "choose option 2\n",
      "First Name James\n",
      "Last Name Smith\n",
      "Major Biology\n",
      "GPA 2.8\n"
     ]
    },
    {
     "name": "stdout",
     "output_type": "stream",
     "text": [
      "Student Added Successfully.\n",
      "Welcome to the student entry system.\n",
      "Please make your selection from the following options.\n",
      "\n",
      "|   | \tOption\t\t|\n",
      "| 1 | Student Information Query\n",
      "| 2 | Student Information Entry\n",
      "| 3 | Query GPA Metrics\n",
      "| 4 | Academic Violation\n",
      "| 5 | Quit Program\n",
      "\n"
     ]
    },
    {
     "name": "stdin",
     "output_type": "stream",
     "text": [
      "choose option 3\n"
     ]
    },
    {
     "name": "stdout",
     "output_type": "stream",
     "text": [
      "Max GPA: 4.0\n",
      "Min GPA: 2.8\n",
      "Avg GPA: 3.465\n",
      "\n",
      "Welcome to the student entry system.\n",
      "Please make your selection from the following options.\n",
      "\n",
      "|   | \tOption\t\t|\n",
      "| 1 | Student Information Query\n",
      "| 2 | Student Information Entry\n",
      "| 3 | Query GPA Metrics\n",
      "| 4 | Academic Violation\n",
      "| 5 | Quit Program\n",
      "\n"
     ]
    },
    {
     "name": "stdin",
     "output_type": "stream",
     "text": [
      "choose option 4\n"
     ]
    },
    {
     "name": "stdout",
     "output_type": "stream",
     "text": [
      "Student: Carmen Berzatto\n",
      "Student: Sydney Adamu\n",
      "Student: Neil Fak\n",
      "Student: Marcus Brooks\n",
      "Student: Ellery Bresler\n",
      "Student: James Smith\n"
     ]
    },
    {
     "name": "stdin",
     "output_type": "stream",
     "text": [
      "choose student James Smith\n"
     ]
    },
    {
     "name": "stdout",
     "output_type": "stream",
     "text": [
      "\n",
      "Academic Violations:\n",
      "1. copying homework\n",
      "2. cheating on exam\n",
      "3. plagiarism\n",
      "4. cheating on quiz\n",
      "5. writing paper for another student\n"
     ]
    },
    {
     "name": "stdin",
     "output_type": "stream",
     "text": [
      "choose violation 1\n"
     ]
    },
    {
     "name": "stdout",
     "output_type": "stream",
     "text": [
      "Violation added successfully\n",
      "Welcome to the student entry system.\n",
      "Please make your selection from the following options.\n",
      "\n",
      "|   | \tOption\t\t|\n",
      "| 1 | Student Information Query\n",
      "| 2 | Student Information Entry\n",
      "| 3 | Query GPA Metrics\n",
      "| 4 | Academic Violation\n",
      "| 5 | Quit Program\n",
      "\n"
     ]
    },
    {
     "name": "stdin",
     "output_type": "stream",
     "text": [
      "choose option 4\n"
     ]
    },
    {
     "name": "stdout",
     "output_type": "stream",
     "text": [
      "Student: Carmen Berzatto\n",
      "Student: Sydney Adamu\n",
      "Student: Neil Fak\n",
      "Student: Marcus Brooks\n",
      "Student: Ellery Bresler\n",
      "Student: James Smith\n"
     ]
    },
    {
     "name": "stdin",
     "output_type": "stream",
     "text": [
      "choose student Marcus Brooks\n"
     ]
    },
    {
     "name": "stdout",
     "output_type": "stream",
     "text": [
      "\n",
      "Academic Violations:\n",
      "1. copying homework\n",
      "2. cheating on exam\n",
      "3. plagiarism\n",
      "4. cheating on quiz\n",
      "5. writing paper for another student\n"
     ]
    },
    {
     "name": "stdin",
     "output_type": "stream",
     "text": [
      "choose violation 5\n"
     ]
    },
    {
     "name": "stdout",
     "output_type": "stream",
     "text": [
      "Violation added successfully\n",
      "Welcome to the student entry system.\n",
      "Please make your selection from the following options.\n",
      "\n",
      "|   | \tOption\t\t|\n",
      "| 1 | Student Information Query\n",
      "| 2 | Student Information Entry\n",
      "| 3 | Query GPA Metrics\n",
      "| 4 | Academic Violation\n",
      "| 5 | Quit Program\n",
      "\n"
     ]
    },
    {
     "name": "stdin",
     "output_type": "stream",
     "text": [
      "choose option 5\n"
     ]
    },
    {
     "name": "stdout",
     "output_type": "stream",
     "text": [
      "Thank you, come again.\n"
     ]
    }
   ],
   "source": [
    "#### while True:\n",
    "\n",
    "# Menu Navigation\n",
    "    print(f\"Welcome to the student entry system.\")\n",
    "    print(f\"Please make your selection from the following options.\\n\")\n",
    "\n",
    "    print(f\"|   | \\tOption\\t\\t|\")\n",
    "    print(f\"| 1 | Student Information Query\")\n",
    "    print(f\"| 2 | Student Information Entry\")\n",
    "    print(f\"| 3 | Query GPA Metrics\")\n",
    "    print(f\"| 4 | Academic Violation\")\n",
    "    print(f\"| 5 | Quit Program\\n\")\n",
    "\n",
    "    choice = int(input(\"choose option\")) #Make menu selection \n",
    "        \n",
    "    if choice == 1:\n",
    "    #Gives the student information\n",
    "        print(f\"Student Information\")\n",
    "        for i in range(len(first_name)):\n",
    "            print(f\"Student: {first_name[i]} {last_name[i]} | Major: {major[i]} | GPA: {student_gpa[i]}\")\n",
    "        \n",
    "    elif choice == 2:\n",
    "    #Ask for student information\n",
    "        first = input(\"First Name\")\n",
    "        last = input(\"Last Name\")\n",
    "        maj = input(\"Major\")\n",
    "        gpa = (float(input(\"GPA\")))\n",
    "\n",
    "        first_name.append(first)\n",
    "        last_name.append(last)\n",
    "        major.append(maj)\n",
    "        student_gpa.append(gpa)\n",
    "        print(f\"Student Added Successfully.\")\n",
    "             \n",
    "    elif choice == 3:\n",
    "    #allow user to query student data *max* GPA, *min* GPA, *average* GPA\n",
    "        print(f\"Max GPA: {max(student_gpa)}\")\n",
    "        print(f\"Min GPA: {min(student_gpa)}\")\n",
    "        print(f\"Avg GPA: {sum(student_gpa)/len(student_gpa)}\\n\")\n",
    "        \n",
    "    elif choice == 4:\n",
    "    #Adding in student violations\n",
    "        for i in range(len(first_name)):\n",
    "            print(f\"Student: {first_name[i]} {last_name[i]}\") \n",
    "        student_choice = input(\"choose student\") #Make selection\n",
    "        print(\"\\nAcademic Violations:\")\n",
    "        for i, v in enumerate(academic_violation):\n",
    "            print(f\"{i+1}. {v}\")\n",
    "        student_violation = input(\"choose violation\") \n",
    "        student_violations.append(student_violation)\n",
    "        print(f\"Violation added successfully\")\n",
    "                             \n",
    "    elif choice == 5:\n",
    "    #End of Loop\n",
    "        print(f\"Thank you, come again.\")\n",
    "        break\n",
    "        \n",
    "    else:\n",
    "        print(\"Invalid choice. Please try again.\")"
   ]
  },
  {
   "cell_type": "markdown",
   "id": "99812107-ec2a-4e9a-908d-e33bc4b37b36",
   "metadata": {},
   "source": [
    "#### References \n",
    "Chat link: https://chatgpt.com/share/67f4ad67-a21c-8010-a055-01907b2d2886"
   ]
  },
  {
   "cell_type": "code",
   "execution_count": null,
   "id": "ee2c1c73-0598-471e-9fcf-e470a49036e9",
   "metadata": {},
   "outputs": [],
   "source": []
  }
 ],
 "metadata": {
  "kernelspec": {
   "display_name": "Python 3 (ipykernel)",
   "language": "python",
   "name": "python3"
  },
  "language_info": {
   "codemirror_mode": {
    "name": "ipython",
    "version": 3
   },
   "file_extension": ".py",
   "mimetype": "text/x-python",
   "name": "python",
   "nbconvert_exporter": "python",
   "pygments_lexer": "ipython3",
   "version": "3.13.2"
  }
 },
 "nbformat": 4,
 "nbformat_minor": 5
}
