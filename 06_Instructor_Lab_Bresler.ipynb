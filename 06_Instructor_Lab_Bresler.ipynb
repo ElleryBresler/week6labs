{
 "cells": [
  {
   "cell_type": "markdown",
   "id": "8069a8d9-55f1-4981-92a2-ecad2dad4d10",
   "metadata": {},
   "source": [
    "UM MSBA - BGEN\n",
    "\n",
    "# Week 6 Instructor-Led Lab: Magic Crystal Ball\n",
    "---\n",
    "    Author: Ellery Bresler\n",
    "    Course: BGEN632 Grad. Intro. to Python\n",
    "    Term: Spring 2025\n",
    "    Date: April 7, 2025\n",
    "\n",
    "\n",
    "## &#x1f52e; Welcome to my Crystal Ball. &#x1f52e;\n",
    "\n",
    "This notebook contains code for a \"magic crystal ball\" program based on lab assignment requirements outlined in the BGEN 632 Week 6 GitHub repo. The program makes use of collections, nested loops, and a random number generator. \n",
    "\n",
    "#### Import Modules"
   ]
  },
  {
   "cell_type": "code",
   "execution_count": 1,
   "id": "15e8c057-e086-4338-bd5d-ea17c93af40f",
   "metadata": {},
   "outputs": [],
   "source": [
    "import random as rand"
   ]
  },
  {
   "cell_type": "markdown",
   "id": "77553727-f5ec-42d9-875b-e92d12581d4f",
   "metadata": {},
   "source": [
    "#### Create Variables "
   ]
  },
  {
   "cell_type": "code",
   "execution_count": 2,
   "id": "5ddfacf2-e529-4c48-bd3c-14c54b6327ce",
   "metadata": {},
   "outputs": [],
   "source": [
    "fortune_responses = [\"It is certain\",\n",
    "                    \"It is decidedly so\",\n",
    "                    \"That question requires greater monetary compensation\",\n",
    "                    \"Reply is hazy; try again, with more money\",\n",
    "                    \"Concentrate and ask again\",\n",
    "                    \"My reply is no\",\n",
    "                    \"Outlook is not so good\",\n",
    "                    \"Very doubtful\",\n",
    "                    \"NO, GOD PLEASE NO!\",\n",
    "                    \"Sure, why not?\",\n",
    "                    \"What do you think?\"]\n",
    "\n",
    "question_asked = False #keep track of whether a question has been asked \n",
    "service_cost = 0.0 #keep track of service cost\n",
    "price_per_question = 30.00\n",
    "\n",
    "questions = [] #the questions asked by the customer \n",
    "responses = [] #the responses provided to the customer "
   ]
  },
  {
   "cell_type": "markdown",
   "id": "3a4746fa-d7df-4e8c-b85d-1b123fd9658e",
   "metadata": {},
   "source": [
    "#### Create Nested Loop"
   ]
  },
  {
   "cell_type": "code",
   "execution_count": 3,
   "id": "2833fa89-49b8-41fd-b7d5-0f4170b59e17",
   "metadata": {},
   "outputs": [
    {
     "name": "stdout",
     "output_type": "stream",
     "text": [
      "1. Ask a question\n",
      "2. Review Questions and Responses\n",
      "3. Complete Services and Pay\n",
      "\n"
     ]
    },
    {
     "name": "stdin",
     "output_type": "stream",
     "text": [
      "choose option 1\n",
      "Ask what you seek to know... Will I win the lottery?\n"
     ]
    },
    {
     "name": "stdout",
     "output_type": "stream",
     "text": [
      "Sure, why not?\n",
      "\n",
      "1. Ask another question\n",
      "2. Review Questions and Responses\n",
      "3. Complete Services and Pay\n",
      "\n"
     ]
    },
    {
     "name": "stdin",
     "output_type": "stream",
     "text": [
      "choose option 1\n",
      "Ask what you seek to know... Will I become famous?\n"
     ]
    },
    {
     "name": "stdout",
     "output_type": "stream",
     "text": [
      "Sure, why not?\n",
      "\n",
      "1. Ask another question\n",
      "2. Review Questions and Responses\n",
      "3. Complete Services and Pay\n",
      "\n"
     ]
    },
    {
     "name": "stdin",
     "output_type": "stream",
     "text": [
      "choose option 1\n",
      "Ask what you seek to know... Do you think the weather will be nice tomorrow?\n"
     ]
    },
    {
     "name": "stdout",
     "output_type": "stream",
     "text": [
      "NO, GOD PLEASE NO!\n",
      "\n",
      "1. Ask another question\n",
      "2. Review Questions and Responses\n",
      "3. Complete Services and Pay\n",
      "\n"
     ]
    },
    {
     "name": "stdin",
     "output_type": "stream",
     "text": [
      "choose option 1\n",
      "Ask what you seek to know... Will I end world hunger?\n"
     ]
    },
    {
     "name": "stdout",
     "output_type": "stream",
     "text": [
      "Reply is hazy; try again, with more money\n",
      "\n",
      "1. Ask another question\n",
      "2. Review Questions and Responses\n",
      "3. Complete Services and Pay\n",
      "\n"
     ]
    },
    {
     "name": "stdin",
     "output_type": "stream",
     "text": [
      "choose option 2\n"
     ]
    },
    {
     "name": "stdout",
     "output_type": "stream",
     "text": [
      "\n",
      "Question 1: Will I win the lottery?\n",
      "Response 1: Sure, why not?\n",
      "\n",
      "\n",
      "Question 2: Will I become famous?\n",
      "Response 2: Sure, why not?\n",
      "\n",
      "\n",
      "Question 3: Do you think the weather will be nice tomorrow?\n",
      "Response 3: NO, GOD PLEASE NO!\n",
      "\n",
      "\n",
      "Question 4: Will I end world hunger?\n",
      "Response 4: Reply is hazy; try again, with more money\n",
      "\n",
      "1. Ask another question\n",
      "2. Review Questions and Responses\n",
      "3. Complete Services and Pay\n",
      "\n"
     ]
    },
    {
     "name": "stdin",
     "output_type": "stream",
     "text": [
      "choose option 3\n"
     ]
    },
    {
     "name": "stdout",
     "output_type": "stream",
     "text": [
      "You have asked 4 questions which comes out to $120.000000.\n"
     ]
    }
   ],
   "source": [
    "# Loop until end service is true \n",
    "while True:\n",
    "    # Ask for the product selection\n",
    "    print(\"1. Ask another question\" if questions else \"1. Ask a question\")\n",
    "    print(f\"2. Review Questions and Responses\")\n",
    "    print(f\"3. Complete Services and Pay\\n\")\n",
    "    choice = int(input(\"choose option\"))  \n",
    "        \n",
    "    if choice == 1:\n",
    "        ### Ask Question\n",
    "        question = (input(\"Ask what you seek to know...\"))\n",
    "        questions.append(question)\n",
    "\n",
    "        ## Random Response\n",
    "        rand_a = rand.randrange(0, len(fortune_responses))\n",
    "        response = fortune_responses[rand_a]\n",
    "        responses.append(response)\n",
    "        print(f\"{response}\\n\")\n",
    "        \n",
    "        #Update the cost\n",
    "        service_cost += price_per_question\n",
    "        \n",
    "    elif choice == 2:\n",
    "        if not questions:\n",
    "            print(f\"No questions asked yet\")\n",
    "        else:\n",
    "            for i in range(len(questions)):\n",
    "                print(f\"\\nQuestion {i+1}: {questions[i]}\")\n",
    "                print(f\"Response {i+1}: {responses[i]}\\n\")\n",
    "        \n",
    "    elif choice == 3:\n",
    "        print(f\"You have asked {len(questions)} questions which comes out to ${service_cost:2f}.\")\n",
    "        break \n",
    "        \n",
    "    else:\n",
    "        print(\"Invalid choice. Please try again.\")"
   ]
  },
  {
   "cell_type": "markdown",
   "id": "daa49ce6-811f-4763-a20e-48023ac3c0c0",
   "metadata": {},
   "source": [
    "#### References\n",
    "\n",
    "Chatlink: https://chatgpt.com/share/67f4810d-228c-8010-963e-375b59ae65f3\n",
    "    "
   ]
  },
  {
   "cell_type": "code",
   "execution_count": null,
   "id": "630935c6-cef5-4eab-93e9-5a1883d441af",
   "metadata": {},
   "outputs": [],
   "source": []
  }
 ],
 "metadata": {
  "kernelspec": {
   "display_name": "Python 3 (ipykernel)",
   "language": "python",
   "name": "python3"
  },
  "language_info": {
   "codemirror_mode": {
    "name": "ipython",
    "version": 3
   },
   "file_extension": ".py",
   "mimetype": "text/x-python",
   "name": "python",
   "nbconvert_exporter": "python",
   "pygments_lexer": "ipython3",
   "version": "3.13.2"
  }
 },
 "nbformat": 4,
 "nbformat_minor": 5
}
